{
 "cells": [
  {
   "attachments": {},
   "cell_type": "markdown",
   "metadata": {},
   "source": []
  },
  {
   "attachments": {},
   "cell_type": "markdown",
   "metadata": {},
   "source": [
    "# Test"
   ]
  },
  {
   "cell_type": "code",
   "execution_count": null,
   "metadata": {},
   "outputs": [],
   "source": [
    "def sortObj(k):\n",
    "    return sorted(obj[k].items(), key=lambda x: x[1], reverse=True)\n",
    "emotion_dic = {}\n",
    "cnt = 0\n",
    "path = \"./data/epi1_100_face\"\n",
    "uploaded_files = os.listdir(path)\n",
    "for i,uploaded_file in enumerate(uploaded_files):\n",
    "    bs = os.path.join(path, uploaded_file)\n",
    "    try:\n",
    "        obj = DeepFace.analyze(bs, actions=[\"age\", \"gender\", \"race\", \"emotion\"])\n",
    "\n",
    "        race = sortObj(\"race\")\n",
    "        gender = sortObj(\"gender\")\n",
    "        emotions = sortObj(\"emotion\")\n",
    "        print('ㅡ'*30)\n",
    "        plt.imshow(mpimg.imread(bs))\n",
    "        plt.axis('off') ## 축 제거\n",
    "        plt.show()\n",
    "\n",
    "        print(\"성별\")\n",
    "        print(\"{0} : {1}%\".format(gender[0][0], round(gender[0][1], 2)))\n",
    "        print(\"감정\")\n",
    "        if emotions[0][0] != 'neutral':\n",
    "            emotion_dic[uploaded_file.split('.')[0]] = emotions[0][0]\n",
    "        else:\n",
    "            emotion_dic[uploaded_file.split('.')[0]] = emotions[1][0]\n",
    "        print(\"{0} : {1}%\".format(emotions[0][0], round(emotions[0][1], 2)))\n",
    "        print(\"{0} : {1}%\".format(emotions[1][0], round(emotions[1][1], 2)))\n",
    "        print(\"{0} : {1}%\".format(emotions[2][0], round(emotions[2][1], 2)))\n",
    "\n",
    "        print('ㅡ'*30)\n",
    "    except Exception as e:\n",
    "        cnt += 1\n",
    "        print(e,'얼굴이 잡히지 않았습니다')\n",
    "print(cnt)"
   ]
  },
  {
   "attachments": {},
   "cell_type": "markdown",
   "metadata": {},
   "source": [
    "# 회차별 감정분석 결과"
   ]
  },
  {
   "attachments": {},
   "cell_type": "markdown",
   "metadata": {},
   "source": [
    "## 관련 모듈을 불러옵니다"
   ]
  },
  {
   "cell_type": "code",
   "execution_count": 9,
   "metadata": {},
   "outputs": [],
   "source": [
    "import base64\n",
    "import os\n",
    "import numpy as np\n",
    "import matplotlib.pyplot as plt\n",
    "import matplotlib.image as mpimg\n",
    "from deepface import DeepFace\n",
    "from collections import Counter\n",
    "import pandas as pd\n",
    "import pickle"
   ]
  },
  {
   "cell_type": "code",
   "execution_count": 17,
   "metadata": {},
   "outputs": [],
   "source": [
    "def sortObj(obj,k):\n",
    "    return sorted(obj[k].items(), key=lambda x: x[1], reverse=True)\n",
    "\n",
    "\n",
    "\n",
    "def main(path, name):\n",
    "    dic_list = os.listdir(path)\n",
    "    all_df = pd.DataFrame()\n",
    "    all_df_cnt = pd.DataFrame()\n",
    "  \n",
    "    for dic in dic_list:\n",
    "        dic_path = os.path.join(path,dic)\n",
    "        uploaded_files = os.listdir(dic_path)\n",
    "\n",
    "        emotion_dic = {}\n",
    "        cnt = 0\n",
    "        for i,uploaded_file in enumerate(sorted(uploaded_files)):\n",
    "            bs = os.path.join(dic_path, uploaded_file)\n",
    "            try:\n",
    "                obj = DeepFace.analyze(bs, actions=[\"emotion\"]) #\"age\", \"gender\", \"race\", \n",
    "            except:\n",
    "                cnt += 1\n",
    "                emotion_dic[uploaded_file.split('.')[0]] = 'None'\n",
    "                continue\n",
    "\n",
    "            emotions = sortObj(obj,\"emotion\")\n",
    "\n",
    "            if emotions[0][0] != 'neutral':\n",
    "\n",
    "                emotion_dic[uploaded_file.split('.')[0]] = emotions[0][0]\n",
    "            else:\n",
    "                emotion_dic[uploaded_file.split('.')[0]] = emotions[1][0]\n",
    "\n",
    "        \n",
    "            \n",
    "\n",
    "        em_count = Counter(emotion_dic.values()).most_common()\n",
    "        cnt_dict = dict((x, y) for x, y in em_count)\n",
    "\n",
    "        \n",
    "        df_cnt = pd.DataFrame(list(cnt_dict.items()),columns = ['emotion','count'])\n",
    "        df_cnt['episode'] = dic\n",
    "\n",
    "        all_df_cnt = pd.concat([all_df_cnt,df_cnt])\n",
    "        all_df['name'] = name\n",
    "        all_df_cnt.to_csv(\"./result/\"+name+'_all_df_cnt'+'.csv', encoding=\"utf-8-sig\", index=False)\n",
    "\n",
    "\n",
    "        df = pd.DataFrame(list(emotion_dic.items()),columns = ['fileName','emotion'])\n",
    "        df['episode'] = dic\n",
    "        all_df = pd.concat([all_df,df])\n",
    "        all_df.to_csv(\"./result/\"+name+'_all_df'+'.csv', encoding=\"utf-8-sig\", index=False)     \n"
   ]
  },
  {
   "cell_type": "code",
   "execution_count": 22,
   "metadata": {},
   "outputs": [],
   "source": [
    "now_dic = os.getcwd()\n",
    "name = 'yawang'\n",
    "path =os.path.join('./data',name)\n",
    "\n",
    "main(path, name)"
   ]
  },
  {
   "attachments": {},
   "cell_type": "markdown",
   "metadata": {},
   "source": [
    "## 이름 바꾸기"
   ]
  },
  {
   "cell_type": "code",
   "execution_count": 20,
   "metadata": {},
   "outputs": [
    {
     "name": "stdout",
     "output_type": "stream",
     "text": [
      "./data/yawang/epi11\n",
      "./data/yawang/epi16\n",
      "./data/yawang/epi2\n",
      "./data/yawang/epi5\n",
      "./data/yawang/epi20\n",
      "./data/yawang/epi.DS_Store\n",
      "./data/yawang/epi17\n",
      "./data/yawang/epi10\n",
      "./data/yawang/epi21\n",
      "./data/yawang/epi4\n",
      "./data/yawang/epi3\n",
      "./data/yawang/epi9\n",
      "./data/yawang/epi8\n",
      "./data/yawang/epi19\n",
      "./data/yawang/epi18\n",
      "./data/yawang/epi12\n",
      "./data/yawang/epi15\n",
      "./data/yawang/epi23\n",
      "./data/yawang/epi24\n",
      "./data/yawang/epi1\n",
      "./data/yawang/epi6\n",
      "./data/yawang/epi14\n",
      "./data/yawang/epi13\n",
      "./data/yawang/epi7\n",
      "./data/yawang/epi22\n"
     ]
    }
   ],
   "source": [
    "import os\n",
    "path = './data/yawang'\n",
    "dir_list = os.listdir(path)\n",
    "for dir in dir_list:\n",
    "    src = os.path.join(path,dir)\n",
    "\n",
    "    new_name = \"epi{0}\".format(dir.split('회')[0])\n",
    "    new = os.path.join(path,new_name)\n",
    "    print(new)\n",
    "    os.rename(src,new)\n"
   ]
  }
 ],
 "metadata": {
  "kernelspec": {
   "display_name": "env_deepface",
   "language": "python",
   "name": "python3"
  },
  "language_info": {
   "codemirror_mode": {
    "name": "ipython",
    "version": 3
   },
   "file_extension": ".py",
   "mimetype": "text/x-python",
   "name": "python",
   "nbconvert_exporter": "python",
   "pygments_lexer": "ipython3",
   "version": "3.10.8"
  },
  "orig_nbformat": 4,
  "vscode": {
   "interpreter": {
    "hash": "d3b0e2a4fa960a90302b91fc4d506350f25ef7b8529281581223186725bdb586"
   }
  }
 },
 "nbformat": 4,
 "nbformat_minor": 2
}

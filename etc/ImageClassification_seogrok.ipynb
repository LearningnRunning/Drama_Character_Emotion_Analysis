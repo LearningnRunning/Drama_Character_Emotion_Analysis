{
  "nbformat": 4,
  "nbformat_minor": 0,
  "metadata": {
    "colab": {
      "provenance": []
    },
    "kernelspec": {
      "name": "python3",
      "display_name": "Python 3"
    },
    "language_info": {
      "name": "python"
    }
  },
  "cells": [
    {
      "cell_type": "markdown",
      "source": [
        "# 환경설정"
      ],
      "metadata": {
        "id": "rtMIfVukwBDu"
      }
    },
    {
      "cell_type": "code",
      "execution_count": 1,
      "metadata": {
        "id": "jjvibhXRv5_c"
      },
      "outputs": [],
      "source": [
        "\n",
        "import os.path\n",
        "import cv2\n",
        "import numpy as np\n",
        "import pandas as pd\n",
        "import matplotlib.pyplot as plt\n",
        "import tensorflow as tf\n",
        "import seaborn as sns\n",
        "\n",
        "from pathlib import Path\n",
        "from tqdm import tqdm\n",
        "from time import perf_counter\n",
        "\n",
        "from sklearn.model_selection import train_test_split\n",
        "from sklearn.metrics import classification_report,accuracy_score\n",
        "from IPython.display import Markdown, display"
      ]
    },
    {
      "cell_type": "markdown",
      "source": [
        "## 데이터 연결"
      ],
      "metadata": {
        "id": "qi0g1GcewFUJ"
      }
    },
    {
      "cell_type": "code",
      "source": [
        "from google.colab import drive\n",
        "drive.mount('/content/drive')"
      ],
      "metadata": {
        "colab": {
          "base_uri": "https://localhost:8080/"
        },
        "id": "U7Ox5g_EwHDZ",
        "outputId": "0366521b-0f63-401a-abe8-320c75b90319"
      },
      "execution_count": 2,
      "outputs": [
        {
          "output_type": "stream",
          "name": "stdout",
          "text": [
            "Mounted at /content/drive\n"
          ]
        }
      ]
    },
    {
      "cell_type": "markdown",
      "source": [
        "## 수묵화_올빅뎃.zip 파일 압축 풀기"
      ],
      "metadata": {
        "id": "GmxHZGzVS0qe"
      }
    },
    {
      "cell_type": "code",
      "source": [
        "import zipfile\n",
        "zip_path = '/content/drive/MyDrive/수묵화_올빅뎃.zip'\n",
        "with zipfile.ZipFile(zip_path, 'r') as zip_ref:\n",
        "    zip_ref.extractall('imagedata')\n"
      ],
      "metadata": {
        "id": "ceKV8qcdTOFl"
      },
      "execution_count": 4,
      "outputs": []
    },
    {
      "cell_type": "markdown",
      "source": [
        "### 한글 경로 바꿔주기\n",
        "- 한글 경로는 오류날 확률이 높아 영어명으로 바꿔주겠습니다."
      ],
      "metadata": {
        "id": "VfAQJWnKT55W"
      }
    },
    {
      "cell_type": "code",
      "source": [
        "os.listdir()"
      ],
      "metadata": {
        "colab": {
          "base_uri": "https://localhost:8080/"
        },
        "id": "UZBiitzMoaZw",
        "outputId": "b234ac45-fa9b-4a8f-e5ea-1e6cf5126fbc"
      },
      "execution_count": 5,
      "outputs": [
        {
          "output_type": "execute_result",
          "data": {
            "text/plain": [
              "['.config', 'drive', 'imagedata', 'sample_data']"
            ]
          },
          "metadata": {},
          "execution_count": 5
        }
      ]
    },
    {
      "cell_type": "code",
      "source": [
        "import os\n",
        "\n",
        "# Defining two dictionaries with old and new directory names\n",
        "dir_names_1 = {\n",
        "    '01. ╟│░µ': '01. Live action photo', \n",
        "    '02. └╬╣░': '02. Animated image',\n",
        "    '03. ╗τ╣░': '03. Famous western paintings'\n",
        "}\n",
        "\n",
        "dir_names_2 = {\n",
        "    '01. ╜╟╗τ ╗τ┴°': '01. Landscape',\n",
        "    '02. ╛╓┤╧╕▐└╠╝╟ └╠╣╠┴÷': '02. People',\n",
        "    '03. └»╕φ ╝¡╛τ╚¡': '03. Things',\n",
        "}\n",
        "\n",
        "# Renaming directories using 'os' module functions\n",
        "for old_name, new_name in dir_names_1.items():\n",
        "    # Change current working directory to the original path\n",
        "    os.chdir('/content/imagedata/sumuk/label')\n",
        "    \n",
        "    # Get old and new directory paths\n",
        "    old_name_path = os.path.join('/content/imagedata/sumuk/label', old_name)\n",
        "    new_name_path = os.path.join('/content/imagedata/sumuk/label', new_name)\n",
        "\n",
        "    # If the old directory name exists in the current working directory, rename it to the new directory name\n",
        "    if old_name in os.listdir():\n",
        "        os.rename(old_name_path, new_name_path)\n",
        "    \n",
        "    # If the new directory name also exists in the current working directory\n",
        "    elif new_name in os.listdir():\n",
        "        # Change current working directory to the new directory path\n",
        "        os.chdir(new_name_path)\n",
        "        \n",
        "        # Iterate over each key-value pair in 'dir_names_2'\n",
        "        for old_name, new_name in dir_names_2.items():\n",
        "            # If the old directory name exists in the new directory path, rename it to the new directory name\n",
        "            if old_name in os.listdir():\n",
        "                old_name_path_1 = os.path.join(new_name_path, old_name)\n",
        "                new_name_path_1 = os.path.join(new_name_path, new_name)\n",
        "                os.rename(old_name_path_1, new_name_path_1)\n"
      ],
      "metadata": {
        "id": "-0jcn90MUBv7"
      },
      "execution_count": 12,
      "outputs": []
    },
    {
      "cell_type": "markdown",
      "source": [
        "### 이미지 경로를 데이터 프레임 형태로 만드는 함수"
      ],
      "metadata": {
        "id": "D5Dfy_uWzoXp"
      }
    },
    {
      "cell_type": "code",
      "source": [
        "dir_ = Path('/content/imagedata/sumuk/img')\n",
        "filepaths = list(dir_.glob(r'**/*.jpg'))\n",
        "def proc_img(filepath):\n",
        "    \"\"\"\n",
        "   \t\t이미지데이터의 경로와 label데이터로 데이터프레임 만들기 \n",
        "    \"\"\"\n",
        "\n",
        "    labels = [str(filepath[i]).split(\"/\")[-1] \\\n",
        "              for i in range(len(filepath))]\n",
        "\n",
        "    filepath = pd.Series(filepath, name='Filepath').astype(str)\n",
        "    labels = pd.Series(labels, name='Label')\n",
        "\n",
        "    # 경로와 라벨 concatenate\n",
        "    df = pd.concat([filepath, labels], axis=1)\n",
        "\n",
        "    # index 재설정\n",
        "    df = df.sample(frac=1,random_state=0).reset_index(drop = True)\n",
        "    \n",
        "    return df\n",
        "\n",
        "df = proc_img(filepaths)\n",
        "df.head(5)"
      ],
      "metadata": {
        "id": "tXCK20ILwlkx",
        "colab": {
          "base_uri": "https://localhost:8080/",
          "height": 206
        },
        "outputId": "17bbc75c-2508-4389-9801-ca33736672e5"
      },
      "execution_count": 10,
      "outputs": [
        {
          "output_type": "execute_result",
          "data": {
            "text/plain": [
              "                                            Filepath  \\\n",
              "0  /content/imagedata/sumuk/img/01. Live action p...   \n",
              "1  /content/imagedata/sumuk/img/02. Animated imag...   \n",
              "2  /content/imagedata/sumuk/img/03. Famous wester...   \n",
              "3  /content/imagedata/sumuk/img/02. Animated imag...   \n",
              "4  /content/imagedata/sumuk/img/01. Live action p...   \n",
              "\n",
              "                               Label  \n",
              "0   img_1_2_0596(7081)_Scan_edit.jpg  \n",
              "1   img_2_1_0777(5178)_Scan_edit.jpg  \n",
              "2   img_3_1_0167(3185)_Scan_edit.jpg  \n",
              "3   img_2_1_0074(1123)_Scan_edit.jpg  \n",
              "4  img_1_1_0073.p(779)_Scan_edit.jpg  "
            ],
            "text/html": [
              "\n",
              "  <div id=\"df-c9a6e5cd-3a76-4cc0-9883-6b46bc044996\">\n",
              "    <div class=\"colab-df-container\">\n",
              "      <div>\n",
              "<style scoped>\n",
              "    .dataframe tbody tr th:only-of-type {\n",
              "        vertical-align: middle;\n",
              "    }\n",
              "\n",
              "    .dataframe tbody tr th {\n",
              "        vertical-align: top;\n",
              "    }\n",
              "\n",
              "    .dataframe thead th {\n",
              "        text-align: right;\n",
              "    }\n",
              "</style>\n",
              "<table border=\"1\" class=\"dataframe\">\n",
              "  <thead>\n",
              "    <tr style=\"text-align: right;\">\n",
              "      <th></th>\n",
              "      <th>Filepath</th>\n",
              "      <th>Label</th>\n",
              "    </tr>\n",
              "  </thead>\n",
              "  <tbody>\n",
              "    <tr>\n",
              "      <th>0</th>\n",
              "      <td>/content/imagedata/sumuk/img/01. Live action p...</td>\n",
              "      <td>img_1_2_0596(7081)_Scan_edit.jpg</td>\n",
              "    </tr>\n",
              "    <tr>\n",
              "      <th>1</th>\n",
              "      <td>/content/imagedata/sumuk/img/02. Animated imag...</td>\n",
              "      <td>img_2_1_0777(5178)_Scan_edit.jpg</td>\n",
              "    </tr>\n",
              "    <tr>\n",
              "      <th>2</th>\n",
              "      <td>/content/imagedata/sumuk/img/03. Famous wester...</td>\n",
              "      <td>img_3_1_0167(3185)_Scan_edit.jpg</td>\n",
              "    </tr>\n",
              "    <tr>\n",
              "      <th>3</th>\n",
              "      <td>/content/imagedata/sumuk/img/02. Animated imag...</td>\n",
              "      <td>img_2_1_0074(1123)_Scan_edit.jpg</td>\n",
              "    </tr>\n",
              "    <tr>\n",
              "      <th>4</th>\n",
              "      <td>/content/imagedata/sumuk/img/01. Live action p...</td>\n",
              "      <td>img_1_1_0073.p(779)_Scan_edit.jpg</td>\n",
              "    </tr>\n",
              "  </tbody>\n",
              "</table>\n",
              "</div>\n",
              "      <button class=\"colab-df-convert\" onclick=\"convertToInteractive('df-c9a6e5cd-3a76-4cc0-9883-6b46bc044996')\"\n",
              "              title=\"Convert this dataframe to an interactive table.\"\n",
              "              style=\"display:none;\">\n",
              "        \n",
              "  <svg xmlns=\"http://www.w3.org/2000/svg\" height=\"24px\"viewBox=\"0 0 24 24\"\n",
              "       width=\"24px\">\n",
              "    <path d=\"M0 0h24v24H0V0z\" fill=\"none\"/>\n",
              "    <path d=\"M18.56 5.44l.94 2.06.94-2.06 2.06-.94-2.06-.94-.94-2.06-.94 2.06-2.06.94zm-11 1L8.5 8.5l.94-2.06 2.06-.94-2.06-.94L8.5 2.5l-.94 2.06-2.06.94zm10 10l.94 2.06.94-2.06 2.06-.94-2.06-.94-.94-2.06-.94 2.06-2.06.94z\"/><path d=\"M17.41 7.96l-1.37-1.37c-.4-.4-.92-.59-1.43-.59-.52 0-1.04.2-1.43.59L10.3 9.45l-7.72 7.72c-.78.78-.78 2.05 0 2.83L4 21.41c.39.39.9.59 1.41.59.51 0 1.02-.2 1.41-.59l7.78-7.78 2.81-2.81c.8-.78.8-2.07 0-2.86zM5.41 20L4 18.59l7.72-7.72 1.47 1.35L5.41 20z\"/>\n",
              "  </svg>\n",
              "      </button>\n",
              "      \n",
              "  <style>\n",
              "    .colab-df-container {\n",
              "      display:flex;\n",
              "      flex-wrap:wrap;\n",
              "      gap: 12px;\n",
              "    }\n",
              "\n",
              "    .colab-df-convert {\n",
              "      background-color: #E8F0FE;\n",
              "      border: none;\n",
              "      border-radius: 50%;\n",
              "      cursor: pointer;\n",
              "      display: none;\n",
              "      fill: #1967D2;\n",
              "      height: 32px;\n",
              "      padding: 0 0 0 0;\n",
              "      width: 32px;\n",
              "    }\n",
              "\n",
              "    .colab-df-convert:hover {\n",
              "      background-color: #E2EBFA;\n",
              "      box-shadow: 0px 1px 2px rgba(60, 64, 67, 0.3), 0px 1px 3px 1px rgba(60, 64, 67, 0.15);\n",
              "      fill: #174EA6;\n",
              "    }\n",
              "\n",
              "    [theme=dark] .colab-df-convert {\n",
              "      background-color: #3B4455;\n",
              "      fill: #D2E3FC;\n",
              "    }\n",
              "\n",
              "    [theme=dark] .colab-df-convert:hover {\n",
              "      background-color: #434B5C;\n",
              "      box-shadow: 0px 1px 3px 1px rgba(0, 0, 0, 0.15);\n",
              "      filter: drop-shadow(0px 1px 2px rgba(0, 0, 0, 0.3));\n",
              "      fill: #FFFFFF;\n",
              "    }\n",
              "  </style>\n",
              "\n",
              "      <script>\n",
              "        const buttonEl =\n",
              "          document.querySelector('#df-c9a6e5cd-3a76-4cc0-9883-6b46bc044996 button.colab-df-convert');\n",
              "        buttonEl.style.display =\n",
              "          google.colab.kernel.accessAllowed ? 'block' : 'none';\n",
              "\n",
              "        async function convertToInteractive(key) {\n",
              "          const element = document.querySelector('#df-c9a6e5cd-3a76-4cc0-9883-6b46bc044996');\n",
              "          const dataTable =\n",
              "            await google.colab.kernel.invokeFunction('convertToInteractive',\n",
              "                                                     [key], {});\n",
              "          if (!dataTable) return;\n",
              "\n",
              "          const docLinkHtml = 'Like what you see? Visit the ' +\n",
              "            '<a target=\"_blank\" href=https://colab.research.google.com/notebooks/data_table.ipynb>data table notebook</a>'\n",
              "            + ' to learn more about interactive tables.';\n",
              "          element.innerHTML = '';\n",
              "          dataTable['output_type'] = 'display_data';\n",
              "          await google.colab.output.renderOutput(dataTable, element);\n",
              "          const docLink = document.createElement('div');\n",
              "          docLink.innerHTML = docLinkHtml;\n",
              "          element.appendChild(docLink);\n",
              "        }\n",
              "      </script>\n",
              "    </div>\n",
              "  </div>\n",
              "  "
            ]
          },
          "metadata": {},
          "execution_count": 10
        }
      ]
    },
    {
      "cell_type": "code",
      "source": [
        "print(f'Number of pictures: {df.shape[0]}\\n')\n",
        "print(f'Number of different labels: {len(df.Label.unique())}\\n')\n",
        "print(f'Labels: {df.Label.unique()}')"
      ],
      "metadata": {
        "id": "eP_UNgNdw0HI"
      },
      "execution_count": null,
      "outputs": []
    },
    {
      "cell_type": "markdown",
      "source": [
        "## 이미지 데이터 확인"
      ],
      "metadata": {
        "id": "mcdpdiYJzidy"
      }
    },
    {
      "cell_type": "code",
      "source": [
        "# 데이터 확인\n",
        "fig, axes = plt.subplots(nrows=4, ncols=10, figsize=(15, 7),\n",
        "                        subplot_kw={'xticks': [], 'yticks': []})\n",
        "\n",
        "for i, ax in enumerate(axes.flat):\n",
        "    ax.imshow(plt.imread(df.Filepath[i]))\n",
        "    ax.set_title(df.Label[i], fontsize = 12)\n",
        "plt.tight_layout(pad=0.5)\n",
        "plt.show()"
      ],
      "metadata": {
        "id": "0x2N6sCuw2BS"
      },
      "execution_count": null,
      "outputs": []
    },
    {
      "cell_type": "markdown",
      "source": [
        "### Label Category 분포 확인"
      ],
      "metadata": {
        "id": "Qddjl1XlzfFx"
      }
    },
    {
      "cell_type": "code",
      "source": [
        "vc = df['Label'].value_counts()\n",
        "plt.figure(figsize=(9,5))\n",
        "sns.barplot(x = vc.index, y = vc, palette = \"rocket\")\n",
        "plt.title(\"Number of pictures of each category\", fontsize = 15)\n",
        "plt.show()"
      ],
      "metadata": {
        "id": "I8mhQmvpw80K"
      },
      "execution_count": null,
      "outputs": []
    },
    {
      "cell_type": "code",
      "source": [
        "# Training/test split\n",
        "# train_df,test_df = train_test_split(df.sample(frac=0.2), test_size=0.1,random_state=0) #모델링 시간이 오래걸리면 사용\n",
        "train_df,test_df = train_test_split(df, test_size=0.1,random_state=0)\n",
        "train_df.shape,test_df.shape"
      ],
      "metadata": {
        "id": "D0l7R6UozBZ3"
      },
      "execution_count": null,
      "outputs": []
    },
    {
      "cell_type": "markdown",
      "source": [
        "## 베이스 라인 모델"
      ],
      "metadata": {
        "id": "Lvto5mmLzso5"
      }
    },
    {
      "cell_type": "markdown",
      "source": [
        "### 모델 전처리"
      ],
      "metadata": {
        "id": "KRB3goiIzvKZ"
      }
    },
    {
      "cell_type": "code",
      "source": [
        "import numpy as np\n",
        "import tensorflow as tf\n",
        "\n",
        "\n",
        "from keras.preprocessing.image import ImageDataGenerator\n",
        "\n",
        "train_datagen = ImageDataGenerator(rescale = 1./255,\n",
        "                                   validation_split=0.2)\n",
        "\n",
        "train_gen = train_datagen.flow_from_directory('/content/drive/MyDrive/Colab Notebooks/Data_analysis_Project/03_딥러닝_이미지분류/imagedata/data/natural_images',\n",
        "                                                 target_size = (150, 150),\n",
        "                                                 batch_size = 32,\n",
        "                                                 class_mode = 'categorical',subset='training')\n",
        "val_gen  = train_datagen.flow_from_directory('/content/drive/MyDrive/Colab Notebooks/Data_analysis_Project/03_딥러닝_이미지분류/imagedata/data/natural_images',\n",
        "                                                 target_size = (150, 150),\n",
        "                                                 batch_size = 32,\n",
        "                                                 class_mode = 'categorical',subset='validation')"
      ],
      "metadata": {
        "id": "wxGfo_gfzwM7"
      },
      "execution_count": null,
      "outputs": []
    },
    {
      "cell_type": "markdown",
      "source": [
        "### 딥러닝 CNN모델로 베이스라인 모델"
      ],
      "metadata": {
        "id": "6nNhkdkpz1--"
      }
    },
    {
      "cell_type": "code",
      "source": [
        "# Initialising the CNN\n",
        "cnn = tf.keras.models.Sequential()\n",
        "\n",
        "# Step 1 - Convolution\n",
        "cnn.add(tf.keras.layers.Conv2D(filters=32, kernel_size=3, activation='relu', input_shape=[150, 150, 3]))\n",
        "\n",
        "# Step 2 - Pooling\n",
        "cnn.add(tf.keras.layers.MaxPool2D(pool_size=2, strides=2))\n",
        "\n",
        "# Adding convolutional layer\n",
        "cnn.add(tf.keras.layers.Conv2D(filters=32, kernel_size=3, activation='relu'))\n",
        "cnn.add(tf.keras.layers.MaxPool2D(pool_size=2, strides=2))\n",
        "\n",
        "# Step 3 - Flattening\n",
        "cnn.add(tf.keras.layers.Flatten())\n",
        "\n",
        "# Step 4 - Full Connection\n",
        "cnn.add(tf.keras.layers.Dense(units=128, activation='relu'))\n",
        "\n",
        "# Step 5 - Output Layer\n",
        "cnn.add(tf.keras.layers.Dense(units=8, activation='softmax'))\n",
        "\n",
        "# Compiling the CNN\n",
        "cnn.compile(optimizer = 'adam', \n",
        "            loss = 'categorical_crossentropy', \n",
        "            metrics = ['accuracy'])\n",
        "cnn.summary()"
      ],
      "metadata": {
        "id": "6djcbdToz6Qf"
      },
      "execution_count": null,
      "outputs": []
    },
    {
      "cell_type": "markdown",
      "source": [
        "### 모델 성능 확인(accuracy)"
      ],
      "metadata": {
        "id": "a4p0fQv1z-d8"
      }
    },
    {
      "cell_type": "code",
      "source": [
        "cnn.fit(x = train_gen, validation_data = val_gen, epochs = 10)"
      ],
      "metadata": {
        "id": "vCci9ZpGz9uY"
      },
      "execution_count": null,
      "outputs": []
    },
    {
      "cell_type": "markdown",
      "source": [
        "## 모델 성능 높이기"
      ],
      "metadata": {
        "id": "pxB6CqeO0EPA"
      }
    },
    {
      "cell_type": "markdown",
      "source": [
        "### 데이터 증강으로 성능 높이기"
      ],
      "metadata": {
        "id": "4H2LqM9o0ENm"
      }
    },
    {
      "cell_type": "code",
      "source": [
        "def create_gen():\n",
        "    # 생성기 및 데이터 증강으로 이미지 로드\n",
        "    train_generator = tf.keras.preprocessing.image.ImageDataGenerator(\n",
        "        preprocessing_function=tf.keras.applications.mobilenet_v2.preprocess_input,\n",
        "        validation_split=0.1\n",
        "    )\n",
        "\n",
        "    test_generator = tf.keras.preprocessing.image.ImageDataGenerator(\n",
        "        preprocessing_function=tf.keras.applications.mobilenet_v2.preprocess_input\n",
        "    )\n",
        "\n",
        "    train_images = train_generator.flow_from_dataframe(\n",
        "        dataframe=train_df,\n",
        "        x_col='Filepath', # 파일위치 열이름\n",
        "        y_col='Label', # 클래스 열이름\n",
        "        target_size=(224, 224), # 이미지 사이즈\n",
        "        color_mode='rgb', # 이미지 채널수\n",
        "        class_mode='categorical', # Y값(Label값)\n",
        "        batch_size=32,\n",
        "        shuffle=True, # 데이터를 섞을지 여부\n",
        "        seed=0,\n",
        "        subset='training', # train 인지 val인지 설정\n",
        "        rotation_range=30, # 회전제한 각도 30도\n",
        "        zoom_range=0.15, # 확대 축소 15%\n",
        "        width_shift_range=0.2, # 좌우이동 20%\n",
        "        height_shift_range=0.2, # 상하이동 20%\n",
        "        shear_range=0.15, # 반시계방햐의 각도\n",
        "        horizontal_flip=True, # 좌우 반전 True\n",
        "        fill_mode=\"nearest\"\n",
        "        # 이미지 변경시 보완 방법 (constant, nearest, reflect, wrap) 4개 존재\n",
        "    )\n",
        "\n",
        "    val_images = train_generator.flow_from_dataframe(\n",
        "        dataframe=train_df,\n",
        "        x_col='Filepath',\n",
        "        y_col='Label',\n",
        "        target_size=(224, 224),\n",
        "        color_mode='rgb',\n",
        "        class_mode='categorical',\n",
        "        batch_size=32,\n",
        "        shuffle=True,\n",
        "        seed=0,\n",
        "        subset='validation',\n",
        "        rotation_range=30,\n",
        "        zoom_range=0.15,\n",
        "        width_shift_range=0.2,\n",
        "        height_shift_range=0.2,\n",
        "        shear_range=0.15,\n",
        "        horizontal_flip=True,\n",
        "        fill_mode=\"nearest\"\n",
        "    )\n",
        "\n",
        "    test_images = test_generator.flow_from_dataframe(\n",
        "        dataframe=test_df,\n",
        "        x_col='Filepath',\n",
        "        y_col='Label',\n",
        "        target_size=(224, 224),\n",
        "        color_mode='rgb',\n",
        "        class_mode='categorical',\n",
        "        batch_size=32,\n",
        "        shuffle=False\n",
        "    )\n",
        "    \n",
        "    return train_generator,test_generator,train_images,val_images,test_images"
      ],
      "metadata": {
        "id": "bEoZJmVQ0CP6"
      },
      "execution_count": null,
      "outputs": []
    },
    {
      "cell_type": "markdown",
      "source": [
        "### 전이학습을 사용해서 모델 성능 높이기"
      ],
      "metadata": {
        "id": "lZQldHyA0Q-5"
      }
    },
    {
      "cell_type": "code",
      "source": [
        "models = {\n",
        "    \"DenseNet121\": {\"model\":tf.keras.applications.DenseNet121, \"perf\":0},\n",
        "    \"MobileNetV2\": {\"model\":tf.keras.applications.MobileNetV2, \"perf\":0},\n",
        "    \"DenseNet201\": {\"model\":tf.keras.applications.DenseNet201, \"perf\":0},\n",
        "    \"EfficientNetB0\": {\"model\":tf.keras.applications.EfficientNetB0, \"perf\":0},\n",
        "    \"EfficientNetB1\": {\"model\":tf.keras.applications.EfficientNetB1, \"perf\":0},\n",
        "    \"InceptionV3\": {\"model\":tf.keras.applications.InceptionV3, \"perf\":0},\n",
        "    \"MobileNetV2\": {\"model\":tf.keras.applications.MobileNetV2, \"perf\":0},\n",
        "    \"MobileNetV3Large\": {\"model\":tf.keras.applications.MobileNetV3Large, \"perf\":0},\n",
        "    \"ResNet152V2\": {\"model\":tf.keras.applications.ResNet152V2, \"perf\":0},\n",
        "    \"ResNet50\": {\"model\":tf.keras.applications.ResNet50, \"perf\":0},\n",
        "    \"ResNet50V2\": {\"model\":tf.keras.applications.ResNet50V2, \"perf\":0},\n",
        "    \"VGG19\": {\"model\":tf.keras.applications.VGG19, \"perf\":0},\n",
        "    \"VGG16\": {\"model\":tf.keras.applications.VGG16, \"perf\":0},\n",
        "    \"Xception\": {\"model\":tf.keras.applications.Xception, \"perf\":0}\n",
        "}\n",
        "# Create the generators\n",
        "train_generator,test_generator,train_images,val_images,test_images=create_gen()\n",
        "print('\\n')\n",
        "\n",
        "def get_model(model):\n",
        "# Load the pretained model\n",
        "    kwargs =    {'input_shape':(224, 224, 3),\n",
        "                'include_top':False,\n",
        "                'weights':'imagenet',\n",
        "                'pooling':'avg'}\n",
        "    \n",
        "    pretrained_model = model(**kwargs)\n",
        "    pretrained_model.trainable = False # 레이어를 동결 시켜서 훈련중 손실을 최소화 한다.\n",
        "    \n",
        "    inputs = pretrained_model.input\n",
        "\n",
        "    x = tf.keras.layers.Dense(128, activation='relu')(pretrained_model.output)\n",
        "    x = tf.keras.layers.Dense(128, activation='relu')(x)\n",
        "\n",
        "    outputs = tf.keras.layers.Dense(8, activation='softmax')(x)\n",
        "    # 라벨 개수가 8개이기 때문에 Dencs도 8로 설정\n",
        "    model = tf.keras.Model(inputs=inputs, outputs=outputs)\n",
        "\n",
        "    model.compile(\n",
        "        optimizer='adam',\n",
        "        loss='categorical_crossentropy',\n",
        "        metrics=['accuracy']\n",
        "    )\n",
        "    \n",
        "    return model\n",
        "\n",
        "# Train모델 학습\n",
        "for name, model in models.items():\n",
        "    \n",
        "    # 전이 학습 모델 가져오기\n",
        "    m = get_model(model['model'])\n",
        "    models[name]['model'] = m\n",
        "    \n",
        "    start = perf_counter()\n",
        "    \n",
        "    # 모델 학습\n",
        "    history = m.fit(train_images,validation_data=val_images,epochs=1,verbose=0)\n",
        "    \n",
        "    # 학습시간과 val_accuracy 저장\n",
        "    duration = perf_counter() - start\n",
        "    duration = round(duration,2)\n",
        "    models[name]['perf'] = duration\n",
        "    print(f\"{name:20} trained in {duration} sec\")\n",
        "    \n",
        "    val_acc = history.history['val_accuracy']\n",
        "    models[name]['val_acc'] = [round(v,4) for v in val_acc]"
      ],
      "metadata": {
        "id": "qdhFQ0L30R9O"
      },
      "execution_count": null,
      "outputs": []
    },
    {
      "cell_type": "markdown",
      "source": [
        "## Test 데이터로 성능 확인"
      ],
      "metadata": {
        "id": "oxandI6H0feQ"
      }
    },
    {
      "cell_type": "code",
      "source": [
        "# test데이터로 모델 성능 예측\n",
        "for name, model in models.items():\n",
        "    \n",
        "    # Predict the label of the test_images\n",
        "    pred = models[name]['model'].predict(test_images)\n",
        "    pred = np.argmax(pred,axis=1)\n",
        "\n",
        "    # Map the label\n",
        "    labels = (train_images.class_indices)\n",
        "    labels = dict((v,k) for k,v in labels.items())\n",
        "    pred = [labels[k] for k in pred]\n",
        "\n",
        "    y_test = list(test_df.Label)\n",
        "    acc = accuracy_score(y_test,pred)\n",
        "    models[name]['acc'] = round(acc,4)\n",
        "    print(f'**{name} has a {acc * 100:.2f}% accuracy on the test set**')\n",
        "   \n",
        "# Create a DataFrame with the results\n",
        "models_result = []\n",
        "\n",
        "for name, v in models.items():\n",
        "    models_result.append([ name, models[name]['val_acc'][-1], \n",
        "                          models[name]['acc'],\n",
        "                          models[name]['perf']])\n",
        "    \n",
        "df_results = pd.DataFrame(models_result, \n",
        "                          columns = ['model','val_accuracy','accuracy','Training time (sec)'])\n",
        "df_results.sort_values(by='accuracy', ascending=False, inplace=True)\n",
        "df_results.reset_index(inplace=True,drop=True)\n",
        "df_results"
      ],
      "metadata": {
        "id": "ov7u8bet0jVA"
      },
      "execution_count": null,
      "outputs": []
    },
    {
      "cell_type": "code",
      "source": [
        "plt.figure(figsize = (15,5))\n",
        "sns.barplot(x = 'model', y = 'accuracy', data = df_results)\n",
        "plt.title('Accuracy on the test set (after 1 epoch))', fontsize = 15)\n",
        "plt.ylim(0,1)\n",
        "plt.xticks(rotation=90)\n",
        "plt.show()"
      ],
      "metadata": {
        "id": "6H0Fbnyy0nkX"
      },
      "execution_count": null,
      "outputs": []
    },
    {
      "cell_type": "code",
      "source": [
        "plt.figure(figsize = (15,5))\n",
        "sns.barplot(x = 'model', y = 'Training time (sec)', data = df_results)\n",
        "plt.title('Training time for each model in sec', fontsize = 15)\n",
        "# plt.ylim(0,20)\n",
        "plt.xticks(rotation=90)\n",
        "plt.show()"
      ],
      "metadata": {
        "id": "DNNlbIdb0qwM"
      },
      "execution_count": null,
      "outputs": []
    },
    {
      "cell_type": "markdown",
      "source": [
        "## 다른 모델로 성능 확인\n",
        "### DenseNet201"
      ],
      "metadata": {
        "id": "zImMbRBp1BQx"
      }
    },
    {
      "cell_type": "code",
      "source": [
        "train_df,test_df = train_test_split(df, test_size=0.1, random_state=0)\n",
        "train_generator,test_generator,train_images,val_images,test_images=create_gen()\n",
        "\n",
        "model = get_model(tf.keras.applications.DenseNet201)\n",
        "history = model.fit(train_images,validation_data=val_images,epochs=7)"
      ],
      "metadata": {
        "id": "6OUgLBtp1GkX"
      },
      "execution_count": null,
      "outputs": []
    },
    {
      "cell_type": "code",
      "source": [
        "pd.DataFrame(history.history)[['accuracy','val_accuracy']].plot()\n",
        "plt.title(\"Accuracy\")\n",
        "plt.show()\n"
      ],
      "metadata": {
        "id": "XCDCact81JlX"
      },
      "execution_count": null,
      "outputs": []
    },
    {
      "cell_type": "code",
      "source": [
        "pd.DataFrame(history.history)[['loss','val_loss']].plot()\n",
        "plt.title(\"Loss\")\n",
        "plt.show()"
      ],
      "metadata": {
        "id": "EJrbeOBy1LGw"
      },
      "execution_count": null,
      "outputs": []
    },
    {
      "cell_type": "code",
      "source": [
        "# Predict the label of the test_images\n",
        "pred = model.predict(test_images)\n",
        "pred = np.argmax(pred,axis=1)\n",
        "\n",
        "# Map the label\n",
        "labels = (train_images.class_indices)\n",
        "labels = dict((v,k) for k,v in labels.items())\n",
        "pred = [labels[k] for k in pred]\n",
        "    \n",
        "y_test = list(test_df.Label)\n",
        "acc = accuracy_score(y_test,pred)\n",
        "print(f'Accuracy on the test set: {acc * 100:.2f}%')"
      ],
      "metadata": {
        "id": "sYLcLdz-1Rg1"
      },
      "execution_count": null,
      "outputs": []
    },
    {
      "cell_type": "markdown",
      "source": [
        "### ResNet152V2"
      ],
      "metadata": {
        "id": "EE_PgYG61Tij"
      }
    },
    {
      "cell_type": "code",
      "source": [
        "train_df,test_df = train_test_split(df, test_size=0.1, random_state=0)\n",
        "train_generator,test_generator,train_images,val_images,test_images=create_gen()\n",
        "\n",
        "model = get_model(tf.keras.applications.ResNet152V2)\n",
        "history = model.fit(train_images,validation_data=val_images,epochs=5)"
      ],
      "metadata": {
        "id": "Cx9soD0z1WQf"
      },
      "execution_count": null,
      "outputs": []
    },
    {
      "cell_type": "code",
      "source": [
        "pd.DataFrame(history.history)[['accuracy','val_accuracy']].plot()\n",
        "plt.title(\"Accuracy\")\n",
        "plt.show()\n"
      ],
      "metadata": {
        "id": "Z94_gozm1Y2n"
      },
      "execution_count": null,
      "outputs": []
    },
    {
      "cell_type": "code",
      "source": [
        "pd.DataFrame(history.history)[['loss','val_loss']].plot()\n",
        "plt.title(\"Loss\")\n",
        "plt.show()"
      ],
      "metadata": {
        "id": "FzKnDv5o1aLM"
      },
      "execution_count": null,
      "outputs": []
    },
    {
      "cell_type": "code",
      "source": [
        "# Predict the label of the test_images\n",
        "pred = model.predict(test_images)\n",
        "pred = np.argmax(pred,axis=1)\n",
        "\n",
        "# Map the label\n",
        "labels = (train_images.class_indices)\n",
        "labels = dict((v,k) for k,v in labels.items())\n",
        "pred = [labels[k] for k in pred]\n",
        "\n",
        "def printmd(string):\n",
        "    # Print with Markdowns    \n",
        "    display(Markdown(string))\n",
        "    \n",
        "y_test = list(test_df.Label)\n",
        "acc = accuracy_score(y_test,pred)\n",
        "printmd(f'# Accuracy on the test set: {acc * 100:.2f}%')"
      ],
      "metadata": {
        "id": "yzDMOQ2x1cFh"
      },
      "execution_count": null,
      "outputs": []
    },
    {
      "cell_type": "markdown",
      "source": [
        "### 정밀도와 재현율 보기"
      ],
      "metadata": {
        "id": "o4WZzTQQ1eKe"
      }
    },
    {
      "cell_type": "code",
      "source": [
        "class_report = classification_report(y_test, pred, zero_division=1)\n",
        "print(class_report)"
      ],
      "metadata": {
        "id": "OYPubClU1gO3"
      },
      "execution_count": null,
      "outputs": []
    },
    {
      "cell_type": "markdown",
      "source": [
        "## Counfusion Matrix 시각화"
      ],
      "metadata": {
        "id": "iu7Ax-HC1jUn"
      }
    },
    {
      "cell_type": "code",
      "source": [
        "from sklearn.metrics import confusion_matrix\n",
        "import seaborn as sns\n",
        "\n",
        "cf_matrix = confusion_matrix(y_test, pred, normalize='true')\n",
        "plt.figure(figsize = (10,7))\n",
        "sns.heatmap(cf_matrix, annot=False, xticklabels = sorted(set(y_test)), yticklabels = sorted(set(y_test)),cbar=False)\n",
        "plt.title('Normalized Confusion Matrix', fontsize = 23)\n",
        "plt.xticks(fontsize=15)\n",
        "plt.yticks(fontsize=15)\n",
        "plt.show()"
      ],
      "metadata": {
        "id": "ssDL_-lw1nXd"
      },
      "execution_count": null,
      "outputs": []
    },
    {
      "cell_type": "markdown",
      "source": [
        "# 모델 테스트\n",
        "## 한 장 테스트"
      ],
      "metadata": {
        "id": "UljbRQCb1tFi"
      }
    },
    {
      "cell_type": "code",
      "source": [
        "# from PIL import Image\n",
        "import pandas as pd\n",
        "from tensorflow.keras.preprocessing import image\n",
        "import matplotlib.pyplot as plt\n",
        "from tensorflow.keras.applications.inception_resnet_v2 import InceptionResNetV2, preprocess_input\n",
        "def printmd(string):\n",
        "    # Print with Markdowns    \n",
        "    display(Markdown(string))\n",
        "class_dictionary = {'airplane': 0,\n",
        "                    'car': 1,\n",
        "                    'cat': 2,\n",
        "                    'dog': 3,\n",
        "                    'flower': 4,\n",
        "                    'fruit': 5,\n",
        "                    'motorbike': 6,\n",
        "                    'person': 7}\n",
        "IMAGE_SIZE    = (224, 224)\n",
        "number_1 = int(input(\"번호를 입력하세요 : \")) # 10, 50, 100\n",
        "test_image = image.load_img(test_df.iloc[number_1, 0]\n",
        "                            ,target_size =IMAGE_SIZE )\n",
        "test_image = image.img_to_array(test_image)\n",
        "plt.imshow(test_image/255.);\n",
        "\n",
        "test_image = test_image.reshape((1, test_image.shape[0], test_image.shape[1], test_image.shape[2]))\n",
        "test_image = preprocess_input(test_image)\n",
        "prediction = model.predict(test_image)\n",
        "\n",
        "df = pd.DataFrame({'pred':prediction[0]})\n",
        "df = df.sort_values(by='pred', ascending=False, na_position='first')\n",
        "printmd(f\"## 예측률 : {(df.iloc[0]['pred'])* 100:.2f}%\")\n",
        "\n",
        "for x in class_dictionary:\n",
        "  if class_dictionary[x] == (df[df == df.iloc[0]].index[0]):\n",
        "    printmd(f\"### Class prediction = {x}\")\n",
        "    break"
      ],
      "metadata": {
        "id": "4LXK5WY31ulp"
      },
      "execution_count": null,
      "outputs": []
    },
    {
      "cell_type": "markdown",
      "source": [
        "## 여러장 테스트"
      ],
      "metadata": {
        "id": "qAWpOrj71xHn"
      }
    },
    {
      "cell_type": "code",
      "source": [
        "# Display picture of the dataset with their labels\n",
        "fig, axes = plt.subplots(nrows=4, ncols=6, figsize=(20, 12),\n",
        "                        subplot_kw={'xticks': [], 'yticks': []})\n",
        "\n",
        "for i, ax in enumerate(axes.flat):\n",
        "    ax.imshow(plt.imread(test_df.Filepath.iloc[i]))\n",
        "    ax.set_title(f\"True: {test_df.Label.iloc[i].split('_')[0]}\\nPredicted: {pred[i].split('_')[0]}\", fontsize = 15)\n",
        "plt.tight_layout()\n",
        "plt.show()"
      ],
      "metadata": {
        "id": "OByjQaSe10E2"
      },
      "execution_count": null,
      "outputs": []
    }
  ]
}